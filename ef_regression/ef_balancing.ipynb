{
 "cells": [
  {
   "attachments": {},
   "cell_type": "markdown",
   "metadata": {},
   "source": [
    "# Analyse EF repartition in EchoNet-Dynamic"
   ]
  },
  {
   "cell_type": "code",
   "execution_count": null,
   "metadata": {},
   "outputs": [],
   "source": [
    "import pandas as pd\n",
    "import numpy as np\n",
    "import matplotlib.pyplot as plt\n",
    "\n",
    "\n",
    "data =  pd.read_csv('data/EchoNet-Dynamic/FileList.csv')\n",
    "data.head()"
   ]
  },
  {
   "cell_type": "code",
   "execution_count": null,
   "metadata": {},
   "outputs": [],
   "source": [
    "print(f\"Number of files: {len(data)}\")\n",
    "print(f\"Number of train files: {len(data[data['Split'] == 'TRAIN'])}\")\n",
    "print(f\"Number of test files: {len(data[data['Split'] == 'TEST'])}\")\n",
    "print(f\"Number of val files: {len(data[data['Split'] == 'VAL'])}\")\n"
   ]
  },
  {
   "cell_type": "code",
   "execution_count": null,
   "metadata": {},
   "outputs": [],
   "source": [
    "data_train_ef = data[data['Split'] == 'TRAIN']['EF'].to_list()\n",
    "print(f\"Number of train files with EF: {len(data_train_ef)}\")"
   ]
  },
  {
   "cell_type": "code",
   "execution_count": null,
   "metadata": {},
   "outputs": [],
   "source": [
    "counts, bins, _= plt.hist(data_train_ef, bins=100, range=(0, 100))\n",
    "plt.show()"
   ]
  },
  {
   "cell_type": "code",
   "execution_count": null,
   "metadata": {},
   "outputs": [],
   "source": [
    "min_ef = np.where(counts > 0)[0][0]\n",
    "max_ef = np.where(counts > 0)[0][-1]\n",
    "mean_ef = np.mean(data_train_ef)\n",
    "std_ef = np.std(data_train_ef)\n",
    "max_count = np.max(counts)\n",
    "most_rep = np.argmax(counts)\n",
    "\n",
    "print(f\"Min EF: {min_ef}\")\n",
    "print(f\"Max EF: {max_ef}\")\n",
    "print(f\"Mean EF: {mean_ef}\")\n",
    "print(f\"Std EF: {std_ef}\")\n",
    "print(f\"Most Represented bin: {most_rep} (x{int(max_count)})\")"
   ]
  },
  {
   "attachments": {},
   "cell_type": "markdown",
   "metadata": {},
   "source": [
    "# Prepare list of EF scores needed to balance relevant bins to 100 samples"
   ]
  },
  {
   "cell_type": "code",
   "execution_count": null,
   "metadata": {},
   "outputs": [],
   "source": [
    "count_to_balance = (np.minimum(max_count,100) - counts)#* (counts > 0)\n",
    "count_to_balance = np.maximum(count_to_balance, 0)\n",
    "count_to_balance[:10] = 0\n",
    "count_to_balance[-10:] = 0\n",
    "count_to_balance"
   ]
  },
  {
   "cell_type": "code",
   "execution_count": null,
   "metadata": {},
   "outputs": [],
   "source": [
    "fig, ax = plt.subplots(figsize=(20, 10))\n",
    "\n",
    "ax.bar(np.arange(len(counts)), counts)\n",
    "ax.bar(np.arange(len(counts)), count_to_balance, bottom=counts)\n",
    "\n",
    "plt.show()"
   ]
  },
  {
   "cell_type": "code",
   "execution_count": null,
   "metadata": {},
   "outputs": [],
   "source": [
    "# Total number of videos to generate in order to balance the dataset\n",
    "sum(count_to_balance)"
   ]
  },
  {
   "cell_type": "code",
   "execution_count": null,
   "metadata": {},
   "outputs": [],
   "source": [
    "# Generate fixed list of EF values\n",
    "generated_ef = [[float(i)]*int(count_to_balance[i]) for i in range(len(count_to_balance))]\n",
    "generated_ef = [item for sublist in generated_ef for item in sublist]\n",
    "generated_ef = np.array(generated_ef) + np.random.rand(len(generated_ef))\n",
    "generated_ef"
   ]
  },
  {
   "cell_type": "code",
   "execution_count": null,
   "metadata": {},
   "outputs": [],
   "source": [
    "# Repartition of generated EF values\n",
    "c,v,p = plt.hist(generated_ef, bins=100, range=(0, 100))\n",
    "print(c, v)"
   ]
  },
  {
   "cell_type": "code",
   "execution_count": null,
   "metadata": {},
   "outputs": [],
   "source": [
    "# Sanity check\n",
    "fig, ax = plt.subplots(figsize=(20, 10))\n",
    "ax.bar(np.arange(len(counts)), counts)\n",
    "ax.bar(np.arange(len(c)), c, bottom=counts)\n",
    "\n",
    "plt.show()"
   ]
  },
  {
   "cell_type": "code",
   "execution_count": null,
   "metadata": {},
   "outputs": [],
   "source": [
    "# Save list of generated EF values to file\n",
    "pd.DataFrame(generated_ef, columns=[\"Target EF\"]).to_csv('diffusion/generate_samples/balanced_ef_list.csv', index=False)"
   ]
  }
 ],
 "metadata": {
  "kernelspec": {
   "display_name": "mc23",
   "language": "python",
   "name": "python3"
  },
  "language_info": {
   "codemirror_mode": {
    "name": "ipython",
    "version": 3
   },
   "file_extension": ".py",
   "mimetype": "text/x-python",
   "name": "python",
   "nbconvert_exporter": "python",
   "pygments_lexer": "ipython3",
   "version": "3.10.8"
  },
  "orig_nbformat": 4,
  "vscode": {
   "interpreter": {
    "hash": "c33ab40e20ceeae4733838c11646fbd9a7dffa6d7c9c83d2fe367d38c3073605"
   }
  }
 },
 "nbformat": 4,
 "nbformat_minor": 2
}
